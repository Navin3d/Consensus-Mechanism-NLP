{
 "cells": [
  {
   "cell_type": "code",
   "execution_count": 69,
   "metadata": {},
   "outputs": [],
   "source": [
    "import pickle\n",
    "import pandas as pd\n",
    "import tensorflow as tf\n",
    "from tensorflow.keras import layers\n",
    "from sklearn.pipeline import Pipeline\n",
    "from sklearn.naive_bayes import MultinomialNB\n",
    "from sklearn.model_selection import train_test_split\n",
    "from sklearn.feature_extraction.text import TfidfVectorizer\n",
    "from sklearn.metrics import accuracy_score, precision_recall_fscore_support\n",
    "from tensorflow.keras.layers.experimental.preprocessing import TextVectorization"
   ]
  },
  {
   "cell_type": "code",
   "execution_count": 3,
   "metadata": {},
   "outputs": [
    {
     "data": {
      "text/html": [
       "<div>\n",
       "<style scoped>\n",
       "    .dataframe tbody tr th:only-of-type {\n",
       "        vertical-align: middle;\n",
       "    }\n",
       "\n",
       "    .dataframe tbody tr th {\n",
       "        vertical-align: top;\n",
       "    }\n",
       "\n",
       "    .dataframe thead th {\n",
       "        text-align: right;\n",
       "    }\n",
       "</style>\n",
       "<table border=\"1\" class=\"dataframe\">\n",
       "  <thead>\n",
       "    <tr style=\"text-align: right;\">\n",
       "      <th></th>\n",
       "      <th>description</th>\n",
       "      <th>severity</th>\n",
       "    </tr>\n",
       "  </thead>\n",
       "  <tbody>\n",
       "    <tr>\n",
       "      <th>3290</th>\n",
       "      <td>Split-thickness skin grafting a total area of ...</td>\n",
       "      <td>1</td>\n",
       "    </tr>\n",
       "    <tr>\n",
       "      <th>3053</th>\n",
       "      <td>Open reduction and internal plate and screw fi...</td>\n",
       "      <td>1</td>\n",
       "    </tr>\n",
       "    <tr>\n",
       "      <th>599</th>\n",
       "      <td>Dilatation and curettage (D&amp;C) and Laparoscopi...</td>\n",
       "      <td>0</td>\n",
       "    </tr>\n",
       "    <tr>\n",
       "      <th>2221</th>\n",
       "      <td>Repeat low-transverse C-section, lysis of omen...</td>\n",
       "      <td>0</td>\n",
       "    </tr>\n",
       "    <tr>\n",
       "      <th>1161</th>\n",
       "      <td>Excision of abscess, removal of foreign body. ...</td>\n",
       "      <td>1</td>\n",
       "    </tr>\n",
       "  </tbody>\n",
       "</table>\n",
       "</div>"
      ],
      "text/plain": [
       "                                            description  severity\n",
       "3290  Split-thickness skin grafting a total area of ...         1\n",
       "3053  Open reduction and internal plate and screw fi...         1\n",
       "599   Dilatation and curettage (D&C) and Laparoscopi...         0\n",
       "2221  Repeat low-transverse C-section, lysis of omen...         0\n",
       "1161  Excision of abscess, removal of foreign body. ...         1"
      ]
     },
     "execution_count": 3,
     "metadata": {},
     "output_type": "execute_result"
    }
   ],
   "source": [
    "train_df = pd.read_csv('./data/medical_dataset_temp.csv')\n",
    "train_df_shuffled = train_df.sample(frac=1, random_state=42) # shuffle with random_state=42 for reproducibility\n",
    "train_df_shuffled.head()"
   ]
  },
  {
   "cell_type": "code",
   "execution_count": 4,
   "metadata": {},
   "outputs": [
    {
     "data": {
      "text/plain": [
       "1    1907\n",
       "0    1906\n",
       "Name: severity, dtype: int64"
      ]
     },
     "execution_count": 4,
     "metadata": {},
     "output_type": "execute_result"
    }
   ],
   "source": [
    "train_df.severity.value_counts()"
   ]
  },
  {
   "cell_type": "code",
   "execution_count": 5,
   "metadata": {},
   "outputs": [],
   "source": [
    "train_sentences, val_sentences, train_labels, val_labels = train_test_split(train_df_shuffled[\"description\"].to_numpy(),\n",
    "                                                                            train_df_shuffled[\"severity\"].to_numpy(),\n",
    "                                                                            test_size=0.1,\n",
    "                                                                            random_state=42)"
   ]
  },
  {
   "cell_type": "code",
   "execution_count": 7,
   "metadata": {},
   "outputs": [],
   "source": [
    "max_vocab_length = 10000\n",
    "max_length = 15\n",
    "\n",
    "text_vectorizer = TextVectorization(max_tokens=max_vocab_length,\n",
    "                                    standardize=\"lower_and_strip_punctuation\",\n",
    "                                    split=\"whitespace\",\n",
    "                                    ngrams=None,\n",
    "                                    output_mode=\"int\",\n",
    "                                    output_sequence_length=max_length)"
   ]
  },
  {
   "cell_type": "code",
   "execution_count": 8,
   "metadata": {},
   "outputs": [],
   "source": [
    "text_vectorizer.adapt(train_sentences)"
   ]
  },
  {
   "cell_type": "code",
   "execution_count": 9,
   "metadata": {},
   "outputs": [
    {
     "data": {
      "text/plain": [
       "<tf.Tensor: shape=(1, 15), dtype=int64, numpy=\n",
       "array([[ 1,  6,  1, 13,  1,  1,  0,  0,  0,  0,  0,  0,  0,  0,  0]],\n",
       "      dtype=int64)>"
      ]
     },
     "execution_count": 9,
     "metadata": {},
     "output_type": "execute_result"
    }
   ],
   "source": [
    "sample_sentence = \"There's a flood in my street!\"\n",
    "text_vectorizer([sample_sentence])"
   ]
  },
  {
   "cell_type": "code",
   "execution_count": 13,
   "metadata": {},
   "outputs": [],
   "source": [
    "def calculate_results(y_true, y_pred):\n",
    "  model_accuracy = accuracy_score(y_true, y_pred) * 100\n",
    "  model_precision, model_recall, model_f1, _ = precision_recall_fscore_support(y_true, y_pred, average=\"weighted\")\n",
    "  model_results = {\"accuracy\": model_accuracy,\n",
    "                  \"precision\": model_precision,\n",
    "                  \"recall\": model_recall,\n",
    "                  \"f1\": model_f1}\n",
    "  return model_results"
   ]
  },
  {
   "cell_type": "code",
   "execution_count": 23,
   "metadata": {},
   "outputs": [],
   "source": [
    "embedding = layers.Embedding(input_dim=max_vocab_length,\n",
    "                                     output_dim=128,\n",
    "                                     embeddings_initializer=\"uniform\",\n",
    "                                     input_length=max_length,\n",
    "                                     name=\"embedding\")\n",
    "\n",
    "inputs = layers.Input(shape=(1,), dtype=\"string\")\n",
    "x = text_vectorizer(inputs)\n",
    "x = embedding(x)\n",
    "x = layers.Bidirectional(layers.LSTM(64))(x)\n",
    "outputs = layers.Dense(1, activation=\"sigmoid\")(x)\n",
    "model = tf.keras.Model(inputs, outputs, name=\"model_4_Bidirectional\")"
   ]
  },
  {
   "cell_type": "code",
   "execution_count": 24,
   "metadata": {},
   "outputs": [],
   "source": [
    "model.compile(loss=\"binary_crossentropy\",\n",
    "                optimizer=tf.keras.optimizers.Adam(),\n",
    "                metrics=[\"accuracy\"])"
   ]
  },
  {
   "cell_type": "code",
   "execution_count": 26,
   "metadata": {},
   "outputs": [
    {
     "name": "stdout",
     "output_type": "stream",
     "text": [
      "Epoch 1/15\n",
      "108/108 [==============================] - 5s 39ms/step - loss: 0.4539 - accuracy: 0.7048 - val_loss: 1.3641 - val_accuracy: 0.4738\n",
      "Epoch 2/15\n",
      "108/108 [==============================] - 4s 35ms/step - loss: 0.4293 - accuracy: 0.7100 - val_loss: 1.6812 - val_accuracy: 0.4791\n",
      "Epoch 3/15\n",
      "108/108 [==============================] - 4s 34ms/step - loss: 0.4072 - accuracy: 0.7266 - val_loss: 1.9484 - val_accuracy: 0.4895\n",
      "Epoch 4/15\n",
      "108/108 [==============================] - 4s 35ms/step - loss: 0.3976 - accuracy: 0.7263 - val_loss: 1.9587 - val_accuracy: 0.5000\n",
      "Epoch 5/15\n",
      "108/108 [==============================] - 4s 38ms/step - loss: 0.3866 - accuracy: 0.7321 - val_loss: 2.3917 - val_accuracy: 0.4921\n",
      "Epoch 6/15\n",
      "108/108 [==============================] - 4s 34ms/step - loss: 0.3784 - accuracy: 0.7345 - val_loss: 2.0902 - val_accuracy: 0.4948\n",
      "Epoch 7/15\n",
      "108/108 [==============================] - 4s 34ms/step - loss: 0.3749 - accuracy: 0.7339 - val_loss: 2.8412 - val_accuracy: 0.4948\n",
      "Epoch 8/15\n",
      "108/108 [==============================] - 4s 34ms/step - loss: 0.3763 - accuracy: 0.7488 - val_loss: 2.4030 - val_accuracy: 0.5000\n",
      "Epoch 9/15\n",
      "108/108 [==============================] - 4s 36ms/step - loss: 0.3719 - accuracy: 0.7354 - val_loss: 2.5838 - val_accuracy: 0.4921\n",
      "Epoch 10/15\n",
      "108/108 [==============================] - 4s 35ms/step - loss: 0.3727 - accuracy: 0.7412 - val_loss: 2.7418 - val_accuracy: 0.4843\n",
      "Epoch 11/15\n",
      "108/108 [==============================] - 4s 35ms/step - loss: 0.3678 - accuracy: 0.7365 - val_loss: 3.0069 - val_accuracy: 0.4895\n",
      "Epoch 12/15\n",
      "108/108 [==============================] - 4s 37ms/step - loss: 0.3630 - accuracy: 0.7389 - val_loss: 3.0294 - val_accuracy: 0.4948\n",
      "Epoch 13/15\n",
      "108/108 [==============================] - 4s 36ms/step - loss: 0.3617 - accuracy: 0.7351 - val_loss: 3.1070 - val_accuracy: 0.5000\n",
      "Epoch 14/15\n",
      "108/108 [==============================] - 4s 35ms/step - loss: 0.3624 - accuracy: 0.7444 - val_loss: 2.8862 - val_accuracy: 0.4921\n",
      "Epoch 15/15\n",
      "108/108 [==============================] - 4s 35ms/step - loss: 0.3664 - accuracy: 0.7435 - val_loss: 2.5492 - val_accuracy: 0.4921\n"
     ]
    }
   ],
   "source": [
    "model_history = model.fit(train_sentences,\n",
    "                              train_labels,\n",
    "                              epochs=15,\n",
    "                              validation_data=(val_sentences, val_labels))"
   ]
  },
  {
   "cell_type": "code",
   "execution_count": 70,
   "metadata": {},
   "outputs": [
    {
     "name": "stdout",
     "output_type": "stream",
     "text": [
      "1/1 [==============================] - 1s 888ms/step\n"
     ]
    },
    {
     "data": {
      "text/plain": [
       "array([[0.45843607]], dtype=float32)"
      ]
     },
     "execution_count": 70,
     "metadata": {},
     "output_type": "execute_result"
    }
   ],
   "source": [
    "text = \"surgery\"\n",
    "token = text_vectorizer([text])\n",
    "# print(val_sentences)\n",
    "\n",
    "model_pred_probs = model.predict([text])\n",
    "model_pred_probs[:10]"
   ]
  },
  {
   "cell_type": "code",
   "execution_count": 78,
   "metadata": {},
   "outputs": [
    {
     "name": "stderr",
     "output_type": "stream",
     "text": [
      "WARNING:absl:Found untraced functions such as lstm_cell_7_layer_call_fn, lstm_cell_7_layer_call_and_return_conditional_losses, lstm_cell_8_layer_call_fn, lstm_cell_8_layer_call_and_return_conditional_losses while saving (showing 4 of 4). These functions will not be directly callable after loading.\n"
     ]
    },
    {
     "name": "stdout",
     "output_type": "stream",
     "text": [
      "INFO:tensorflow:Assets written to: Miner_Consensus\\assets\n"
     ]
    },
    {
     "name": "stderr",
     "output_type": "stream",
     "text": [
      "INFO:tensorflow:Assets written to: Miner_Consensus\\assets\n"
     ]
    }
   ],
   "source": [
    "model.save(\"Miner_Consensus\")"
   ]
  },
  {
   "cell_type": "code",
   "execution_count": 80,
   "metadata": {},
   "outputs": [
    {
     "name": "stdout",
     "output_type": "stream",
     "text": [
      "1/1 [==============================] - 3s 3s/step\n"
     ]
    },
    {
     "data": {
      "text/plain": [
       "array([[0.45843607]], dtype=float32)"
      ]
     },
     "execution_count": 80,
     "metadata": {},
     "output_type": "execute_result"
    }
   ],
   "source": [
    "loaded_model = tf.keras.models.load_model(\"Miner_Consensus\")\n",
    "loaded_model.predict([text])"
   ]
  }
 ],
 "metadata": {
  "kernelspec": {
   "display_name": "Python 3",
   "language": "python",
   "name": "python3"
  },
  "language_info": {
   "codemirror_mode": {
    "name": "ipython",
    "version": 3
   },
   "file_extension": ".py",
   "mimetype": "text/x-python",
   "name": "python",
   "nbconvert_exporter": "python",
   "pygments_lexer": "ipython3",
   "version": "3.8.3"
  }
 },
 "nbformat": 4,
 "nbformat_minor": 4
}
